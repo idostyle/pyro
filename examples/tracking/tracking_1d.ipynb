{
 "cells": [
  {
   "cell_type": "markdown",
   "metadata": {},
   "source": [
    "# Tracking an Unknown Number of Objects\n",
    "\n",
    "While SVI can be used to learn components and assignments of a mixture model, pyro.contrib.tracking provides more efficient inference algorithms to estimate assignments. This notebook demonstrates how to use the `MarginalAssignmentPersistent` inside SVI."
   ]
  },
  {
   "cell_type": "code",
   "execution_count": null,
   "metadata": {},
   "outputs": [],
   "source": [
    "from __future__ import absolute_import, division, print_function\n",
    "import math\n",
    "import os\n",
    "import torch\n",
    "from torch.distributions import constraints\n",
    "from matplotlib import pyplot\n",
    "\n",
    "import pyro\n",
    "import pyro.distributions as dist\n",
    "import pyro.poutine as poutine\n",
    "from pyro.contrib.tracking.assignment import MarginalAssignmentPersistent\n",
    "from pyro.infer import SVI, TraceEnum_ELBO\n",
    "from pyro.optim import ClippedAdam\n",
    "\n",
    "%matplotlib inline\n",
    "pyro.enable_validation(True)\n",
    "smoke_test = ('CI' in os.environ)"
   ]
  },
  {
   "cell_type": "markdown",
   "metadata": {},
   "source": [
    "Let's consider a model with deterministic dynamics, say sinusoids with known period but unknown phase and amplitude."
   ]
  },
  {
   "cell_type": "code",
   "execution_count": null,
   "metadata": {},
   "outputs": [],
   "source": [
    "def get_dynamics(num_frames):\n",
    "    time = torch.arange(num_frames) / 2\n",
    "    return torch.stack([time.cos(), time.sin()], -1)"
   ]
  },
  {
   "cell_type": "markdown",
   "metadata": {},
   "source": [
    "It's tricky to define a fully generative model, so instead we'll separate our data generation process `generate_data()` from a factor graph `model()` that will be used in inference."
   ]
  },
  {
   "cell_type": "code",
   "execution_count": null,
   "metadata": {},
   "outputs": [],
   "source": [
    "def generate_data(args):\n",
    "    # Object model.\n",
    "    num_objects = int(round(args.expected_num_objects))  # Deterministic.\n",
    "    states = dist.Normal(0., 1.).sample((num_objects, 2))\n",
    "\n",
    "    # Detection model.\n",
    "    emitted = dist.Bernoulli(args.emission_prob).sample((args.num_frames, num_objects))\n",
    "    num_spurious = dist.Poisson(args.expected_num_spurious).sample((args.num_frames,))\n",
    "    max_num_detections = int((num_spurious + emitted.sum(-1)).max())\n",
    "    observations = torch.zeros(args.num_frames, max_num_detections, 1+1) # position+confidence\n",
    "    positions = get_dynamics(args.num_frames).mm(states.t())\n",
    "    noisy_positions = dist.Normal(positions, args.emission_noise_scale).sample()\n",
    "    for t in range(args.num_frames):\n",
    "        j = 0\n",
    "        for i, e in enumerate(emitted[t]):\n",
    "            if e:\n",
    "                observations[t, j, 0] = noisy_positions[t, i]\n",
    "                observations[t, j, 1] = 1\n",
    "                j += 1\n",
    "        n = int(num_spurious[t])\n",
    "        if n:\n",
    "            observations[t, j:j+n, 0] = dist.Normal(0., 1.).sample((n,))\n",
    "            observations[t, j:j+n, 1] = 1\n",
    "\n",
    "    return states, positions, observations"
   ]
  },
  {
   "cell_type": "code",
   "execution_count": null,
   "metadata": {},
   "outputs": [],
   "source": [
    "@poutine.broadcast\n",
    "def model(args, observations):\n",
    "    with pyro.iarange(\"objects\", args.max_num_objects):\n",
    "        exists = pyro.sample(\"exists\",\n",
    "                             dist.Bernoulli(args.expected_num_objects / args.max_num_objects))\n",
    "        with poutine.scale(scale=exists):\n",
    "            states = pyro.sample(\"states\", dist.Normal(0., 1.).expand([2]).independent(1))\n",
    "            positions = get_dynamics(args.num_frames).mm(states.t())\n",
    "    with pyro.iarange(\"detections\", observations.shape[1]):\n",
    "        with pyro.iarange(\"time\", args.num_frames):\n",
    "            # The combinatorial part of the log prob is approximated to allow independence.\n",
    "            is_observed = (observations[..., -1] > 0)\n",
    "            with poutine.scale(scale=is_observed.float()):\n",
    "                assign = pyro.sample(\"assign\",\n",
    "                                     dist.Categorical(torch.ones(args.max_num_objects + 1)))\n",
    "            is_spurious = (assign == args.max_num_objects)\n",
    "            is_real = is_observed & ~is_spurious\n",
    "            num_observed = is_observed.float().sum(-1, True)\n",
    "            # TODO Make these Bernoulli probs more plausible.\n",
    "            pyro.sample(\"is_real\",\n",
    "                        dist.Bernoulli(args.expected_num_objects / observations.shape[1]),\n",
    "                        obs=is_real.float())\n",
    "            pyro.sample(\"is_spurious\",\n",
    "                        dist.Bernoulli(args.expected_num_spurious / observations.shape[1]),\n",
    "                        obs=is_spurious.float())\n",
    "\n",
    "            # The remaining continuous part is exact.\n",
    "            observed_positions = observations[..., 0]\n",
    "            with poutine.scale(scale=is_real.float()):\n",
    "                bogus_position = positions.new_zeros(args.num_frames, 1)\n",
    "                augmented_positions = torch.cat([positions, bogus_position], -1)\n",
    "                predicted_positions = augmented_positions[:, assign]\n",
    "                pyro.sample(\"real_observations\",\n",
    "                            dist.Normal(predicted_positions, args.emission_noise_scale),\n",
    "                            obs=observed_positions)\n",
    "            with poutine.scale(scale=is_spurious.float()):\n",
    "                pyro.sample(\"spurious_observations\", dist.Normal(0., 1.),\n",
    "                            obs=observed_positions)"
   ]
  },
  {
   "cell_type": "markdown",
   "metadata": {},
   "source": [
    "This guide uses a smart assignment solver but a naive state estimator. A smarter implementation would use message passing also for state estimation, e.g. a Kalman filter-smoother."
   ]
  },
  {
   "cell_type": "code",
   "execution_count": null,
   "metadata": {},
   "outputs": [],
   "source": [
    "@poutine.broadcast\n",
    "def guide(args, observations):\n",
    "    # Initialize states randomly from the prior.\n",
    "    states_loc = pyro.param(\"states_loc\", lambda: torch.randn(args.max_num_objects, 2))\n",
    "    positions = get_dynamics(args.num_frames).mm(states_loc.t())\n",
    "\n",
    "    # Solve soft assignment problem.\n",
    "    real_dist = dist.Normal(positions.unsqueeze(-2), args.emission_noise_scale)\n",
    "    spurious_dist = dist.Normal(0., 1.)\n",
    "    is_observed = (observations[..., -1] > 0)\n",
    "    observed_positions = observations[..., 0].unsqueeze(-1)\n",
    "    assign_logits = (real_dist.log_prob(observed_positions) -\n",
    "                     spurious_dist.log_prob(observed_positions) +\n",
    "                     math.log(args.expected_num_objects * args.emission_prob /\n",
    "                              args.expected_num_spurious))\n",
    "    assign_logits[~is_observed] = -float('inf')\n",
    "    exists_logits = torch.empty(args.max_num_objects).fill_(\n",
    "        math.log(args.expected_num_objects / args.max_num_objects))\n",
    "    assignment = MarginalAssignmentPersistent(exists_logits, assign_logits, args.bp_iters)\n",
    "\n",
    "    with pyro.iarange(\"objects\", args.max_num_objects):\n",
    "        exists = pyro.sample(\"exists\", assignment.exists_dist, infer={\"enumerate\": \"parallel\"})\n",
    "        with poutine.scale(scale=exists):\n",
    "            pyro.sample(\"states\", dist.Delta(states_loc).independent(1))\n",
    "    with pyro.iarange(\"detections\", observations.shape[1]):\n",
    "        with poutine.scale(scale=is_observed.float()):\n",
    "            with pyro.iarange(\"time\", args.num_frames):\n",
    "                pyro.sample(\"assign\", assignment.assign_dist, infer={\"enumerate\": \"parallel\"})\n",
    "\n",
    "    return assignment"
   ]
  },
  {
   "cell_type": "markdown",
   "metadata": {},
   "source": [
    "## Plotting"
   ]
  },
  {
   "cell_type": "markdown",
   "metadata": {},
   "source": [
    "We'll use these plotting helpers before and after training."
   ]
  },
  {
   "cell_type": "code",
   "execution_count": null,
   "metadata": {},
   "outputs": [],
   "source": [
    "def plot_solution(message=''):\n",
    "    assignment = guide(args, observations)\n",
    "    states_loc = pyro.param(\"states_loc\")\n",
    "    positions = get_dynamics(args.num_frames).mm(states_loc.t())\n",
    "    pyplot.figure(figsize=(12,6)).patch.set_color('white')\n",
    "    pyplot.plot(true_positions.numpy(), 'k--')\n",
    "    is_observed = (observations[..., -1] > 0)\n",
    "    pos = observations[..., 0]\n",
    "    time = torch.arange(args.num_frames).unsqueeze(-1).expand_as(pos)\n",
    "    pyplot.scatter(time[is_observed].view(-1).numpy(),\n",
    "                   pos[is_observed].view(-1).numpy(), color='k', marker='+',\n",
    "                   label='observation')\n",
    "    for i in range(args.max_num_objects):\n",
    "        p_exists = assignment.exists_dist.probs[i].item()\n",
    "        position = positions[:, i].detach().numpy()\n",
    "        pyplot.plot(position, alpha=p_exists, color='C0')\n",
    "    if args.expected_num_objects == 1:\n",
    "        p_exists = assignment.exists_dist.probs\n",
    "        mean = (p_exists * positions).sum(-1) / p_exists.sum(-1)\n",
    "        pyplot.plot(mean.detach().numpy(), 'r--', alpha=0.5, label='mean')\n",
    "    pyplot.title('Truth, observations, and {:0.1f} predicted tracks {}'.format(\n",
    "                 assignment.exists_dist.probs.sum().item(), message))\n",
    "    pyplot.plot([], 'k--', label='truth')\n",
    "    pyplot.plot([], color='C0', label='prediction')\n",
    "    pyplot.legend(loc='best')\n",
    "    pyplot.xlabel('time step')\n",
    "    pyplot.ylabel('position')\n",
    "    pyplot.tight_layout()\n",
    "    \n",
    "def plot_exists_histogram():\n",
    "    p_exists = guide(args, observations).exists_dist.probs.numpy()\n",
    "    pyplot.figure(figsize=(6,4)).patch.set_color('white')\n",
    "    pyplot.plot(sorted(p_exists))\n",
    "    pyplot.ylim(0, None)\n",
    "    pyplot.xlim(0, len(p_exists))\n",
    "    pyplot.ylabel('p_exists')\n",
    "    pyplot.xlabel('rank')\n",
    "    pyplot.title('Prob(exists) of {} potential objects, total = {:0.2f}'.format(\n",
    "        len(p_exists), p_exists.sum()))\n",
    "    pyplot.tight_layout()"
   ]
  },
  {
   "cell_type": "markdown",
   "metadata": {},
   "source": [
    "## Generate data"
   ]
  },
  {
   "cell_type": "markdown",
   "metadata": {},
   "source": [
    "We'll define a global config object to make it easy to port code to `argparse`."
   ]
  },
  {
   "cell_type": "code",
   "execution_count": null,
   "metadata": {},
   "outputs": [],
   "source": [
    "args = type('Args', (object,), {})  # A fake ArgumentParser.parse_args() result.\n",
    "\n",
    "args.num_frames = 10\n",
    "args.max_num_objects = 400\n",
    "args.expected_num_objects = 2.\n",
    "args.expected_num_spurious = 0.1  # If this is too small, BP will be unstable.\n",
    "args.emission_prob = 0.9          # If this is too large, BP will be unstable.\n",
    "args.emission_noise_scale = 0.2   # If this is too small, SVI will see flat gradients.\n",
    "args.bp_iters = 20\n",
    "args.svi_iters = 101\n",
    "\n",
    "assert args.max_num_objects >= args.expected_num_objects"
   ]
  },
  {
   "cell_type": "code",
   "execution_count": null,
   "metadata": {},
   "outputs": [],
   "source": [
    "pyro.set_rng_seed(0)\n",
    "true_states, true_positions, observations = generate_data(args)\n",
    "true_num_objects = len(true_states)\n",
    "max_num_detections = observations.shape[1]\n",
    "assert true_states.shape == (true_num_objects, 2)\n",
    "assert true_positions.shape == (args.num_frames, true_num_objects)\n",
    "assert observations.shape == (args.num_frames, max_num_detections, 1+1)\n",
    "print(\"generated {:d} detections from {:d} objects\".format(\n",
    "    (observations[..., -1] > 0).long().sum(), true_num_objects))"
   ]
  },
  {
   "cell_type": "markdown",
   "metadata": {},
   "source": [
    "## Train\n",
    "\n",
    "Before training, our solution should replicate importance sampling."
   ]
  },
  {
   "cell_type": "code",
   "execution_count": null,
   "metadata": {},
   "outputs": [],
   "source": [
    "pyro.set_rng_seed(1)  # Use a different seed from data generation\n",
    "pyro.clear_param_store()\n",
    "plot_solution('(before training)')\n",
    "plot_exists_histogram()"
   ]
  },
  {
   "cell_type": "code",
   "execution_count": null,
   "metadata": {},
   "outputs": [],
   "source": [
    "pyro.set_rng_seed(0)\n",
    "true_states, true_positions, observations = generate_data(args)\n",
    "true_num_objects = len(true_states)\n",
    "max_num_detections = observations.shape[1]\n",
    "assert true_states.shape == (true_num_objects, 2)\n",
    "assert true_positions.shape == (args.num_frames, true_num_objects)\n",
    "assert observations.shape == (args.num_frames, max_num_detections, 1+1)\n",
    "print(\"generated {:d} detections from {:d} objects\".format(\n",
    "    (observations[..., -1] > 0).long().sum(), true_num_objects))"
   ]
  },
  {
   "cell_type": "markdown",
   "metadata": {},
   "source": [
    "## Train\n",
    "\n",
    "Before training, our solution should replicate importance sampling."
   ]
  },
  {
   "cell_type": "code",
   "execution_count": null,
   "metadata": {},
   "outputs": [],
   "source": [
    "%%time\n",
    "pyro.set_rng_seed(1)  # Use a different seed from data generation\n",
    "pyro.clear_param_store()\n",
    "infer = SVI(model, guide, ClippedAdam({\"lr\": 0.1}), TraceEnum_ELBO(max_iarange_nesting=2))\n",
    "losses = []\n",
    "for epoch in range(args.svi_iters if not smoke_test else 2):\n",
    "    loss = infer.step(args, observations)\n",
    "    if epoch % 20 == 0:\n",
    "        print(\"epoch {: >4d} loss = {}\".format(epoch, loss))\n",
    "    losses.append(loss)\n",
    "pyplot.plot(losses);"
   ]
  },
  {
   "cell_type": "markdown",
   "metadata": {},
   "source": [
    "Currently it looks like we're getting stuck in a local mode."
   ]
  },
  {
   "cell_type": "markdown",
   "metadata": {},
   "source": [
    "plot_solution('(after training)')\n",
    "plot_exists_histogram()"
   ]
  },
  {
   "cell_type": "code",
   "execution_count": null,
   "metadata": {},
   "outputs": [],
   "source": [
    "plot_solution('(after training)')\n",
    "plot_exists_histogram()"
   ]
  },
  {
   "cell_type": "code",
   "execution_count": null,
   "metadata": {},
   "outputs": [],
   "source": []
  }
 ],
 "metadata": {
  "kernelspec": {
   "display_name": "Python 3",
   "language": "python",
   "name": "python3"
  },
  "language_info": {
   "codemirror_mode": {
    "name": "ipython",
    "version": 3
   },
   "file_extension": ".py",
   "mimetype": "text/x-python",
   "name": "python",
   "nbconvert_exporter": "python",
   "pygments_lexer": "ipython3",
   "version": "3.6.6"
  }
 },
 "nbformat": 4,
 "nbformat_minor": 2
}
