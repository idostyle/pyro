{
 "cells": [
  {
   "cell_type": "markdown",
   "metadata": {},
   "source": [
    "# Tracking an unknown number of objects\n",
    "\n",
    "While SVI can be used to learn components and assignments of a mixture model, pyro.contrib.tracking provides more efficient inference algorithms to estimate assignments. This notebook demonstrates how to use the `MarginalAssignmentPersistent` with EM."
   ]
  },
  {
   "cell_type": "code",
   "execution_count": null,
   "metadata": {},
   "outputs": [],
   "source": [
    "from __future__ import absolute_import, division, print_function\n",
    "import math\n",
    "import os\n",
    "import torch\n",
    "from torch.distributions import constraints\n",
    "from matplotlib import pyplot\n",
    "\n",
    "import pyro\n",
    "import pyro.distributions as dist\n",
    "import pyro.poutine as poutine\n",
    "from pyro.contrib.tracking.assignment import MarginalAssignmentPersistent\n",
    "from pyro.contrib.tracking.hashing import LSH, merge_points\n",
    "from pyro.ops.newton import newton_step\n",
    "from pyro.infer import SVI, TraceEnum_ELBO\n",
    "from pyro.optim import ClippedAdam, ASGD, SGD\n",
    "from pyro.util import warn_if_nan\n",
    "\n",
    "%matplotlib notebook\n",
    "pyro.enable_validation(True)\n",
    "smoke_test = ('CI' in os.environ)"
   ]
  },
  {
   "cell_type": "markdown",
   "metadata": {},
   "source": [
    "Let's consider a model with deterministic dynamics, say sinusoids with known period but unknown phase and amplitude."
   ]
  },
  {
   "cell_type": "code",
   "execution_count": null,
   "metadata": {},
   "outputs": [],
   "source": [
    "def get_dynamics(num_frames):\n",
    "    time = torch.arange(num_frames,dtype=torch.float)*2*math.pi/num_frames\n",
    "    return torch.stack([time.cos(), time.sin()], -1)"
   ]
  },
  {
   "cell_type": "markdown",
   "metadata": {},
   "source": [
    "It's tricky to define a fully generative model, so instead we'll separate our data generation process `generate_data()` from a factor graph `model()` that will be used in inference."
   ]
  },
  {
   "cell_type": "code",
   "execution_count": null,
   "metadata": {},
   "outputs": [],
   "source": [
    "def generate_data(args):\n",
    "    # Object model.\n",
    "    num_objects = int(round(args.expected_num_objects))  # Deterministic.\n",
    "    #num_objects = int(dist.Poisson(args.expected_num_objects).sample())\n",
    "    states = dist.Normal(0., 1.).sample((num_objects, 2))\n",
    "\n",
    "    # Detection model.\n",
    "    emitted = dist.Bernoulli(args.emission_prob).sample((args.num_frames, num_objects))\n",
    "    num_spurious = dist.Poisson(args.expected_num_spurious).sample((args.num_frames,))\n",
    "    max_num_detections = int((num_spurious + emitted.sum(-1)).max())\n",
    "    observations = torch.zeros(args.num_frames, max_num_detections, 1+1) # position+confidence\n",
    "    positions = get_dynamics(args.num_frames).mm(states.t())\n",
    "    noisy_positions = dist.Normal(positions, args.emission_noise_scale).sample()\n",
    "    for t in range(args.num_frames):\n",
    "        j = 0\n",
    "        for i, e in enumerate(emitted[t]):\n",
    "            if e:\n",
    "                observations[t, j, 0] = noisy_positions[t, i]\n",
    "                observations[t, j, 1] = 1\n",
    "                j += 1\n",
    "        n = int(num_spurious[t])\n",
    "        if n:\n",
    "            observations[t, j:j+n, 0] = dist.Normal(0., 1.).sample((n,))\n",
    "            observations[t, j:j+n, 1] = 1\n",
    "\n",
    "    return states, positions, observations"
   ]
  },
  {
   "cell_type": "code",
   "execution_count": null,
   "metadata": {},
   "outputs": [],
   "source": [
    "@poutine.broadcast\n",
    "def model(args, observations):\n",
    "    with pyro.iarange(\"objects\", args.max_num_objects):\n",
    "        exists = pyro.sample(\"exists\",\n",
    "                             dist.Bernoulli(args.expected_num_objects / args.max_num_objects))\n",
    "        with poutine.scale(scale=exists):\n",
    "            states = pyro.sample(\"states\", dist.Normal(0., 1.).expand([2]).independent(1))\n",
    "            positions = get_dynamics(args.num_frames).mm(states.t())\n",
    "    with pyro.iarange(\"detections\", observations.shape[1]):\n",
    "        with pyro.iarange(\"time\", args.num_frames):\n",
    "            # The combinatorial part of the log prob is approximated to allow independence.\n",
    "            is_observed = (observations[..., -1] > 0)\n",
    "            with poutine.scale(scale=is_observed.float()):\n",
    "                assign = pyro.sample(\"assign\",\n",
    "                                     dist.Categorical(torch.ones(args.max_num_objects + 1)))\n",
    "            is_spurious = (assign == args.max_num_objects)\n",
    "            is_real = is_observed & ~is_spurious\n",
    "            num_observed = is_observed.float().sum(-1, True)\n",
    "            # TODO Make these Bernoulli probs more plausible.\n",
    "            pyro.sample(\"is_real\",\n",
    "                        dist.Bernoulli(args.expected_num_objects / observations.shape[1]),\n",
    "                        obs=is_real.float())\n",
    "            pyro.sample(\"is_spurious\",\n",
    "                        dist.Bernoulli(args.expected_num_spurious / observations.shape[1]),\n",
    "                        obs=is_spurious.float())\n",
    "\n",
    "            # The remaining continuous part is exact.\n",
    "            observed_positions = observations[..., 0]\n",
    "            with poutine.scale(scale=is_real.float()):\n",
    "                bogus_position = positions.new_zeros(args.num_frames, 1)\n",
    "                augmented_positions = torch.cat([positions, bogus_position], -1)\n",
    "                predicted_positions = augmented_positions[:, assign]\n",
    "                pyro.sample(\"real_observations\",\n",
    "                            dist.Normal(predicted_positions, args.emission_noise_scale),\n",
    "                            obs=observed_positions)\n",
    "            with poutine.scale(scale=is_spurious.float()):\n",
    "                pyro.sample(\"spurious_observations\", dist.Normal(0., 1.),\n",
    "                            obs=observed_positions)"
   ]
  },
  {
   "cell_type": "code",
   "execution_count": null,
   "metadata": {},
   "outputs": [],
   "source": [
    "def compute_exists_logits(states_loc, replicates):\n",
    "    FUDGE = -5\n",
    "    return states_loc.new_empty(states_loc.shape[0]).fill_(-math.log(replicates) + FUDGE)\n",
    "\n",
    "def compute_assign_logits(positions, observations, replicates, args):\n",
    "    log_likelihood = detection_log_likelihood(positions, observations, args)\n",
    "    assign_logits = log_likelihood[...,:-1] - log_likelihood[...,-1:] - math.log(replicates)\n",
    "    assign_logits[log_likelihood[..., 0] == -float('inf')] = -float('inf')\n",
    "    return assign_logits\n",
    "\n",
    "def detection_log_likelihood(positions, observations, args):\n",
    "    real_dist = dist.Normal(positions.unsqueeze(-2), args.emission_noise_scale)\n",
    "    spurious_dist = dist.Normal(0., 1.)\n",
    "    is_observed = (observations[..., -1] > 0)\n",
    "    observed_positions = observations[..., 0].unsqueeze(-1)\n",
    "    a=(real_dist.log_prob(observed_positions) +\n",
    "                 math.log(args.expected_num_objects * args.emission_prob))\n",
    "    b= (spurious_dist.log_prob(observed_positions) +\n",
    "                                 math.log(args.expected_num_spurious))\n",
    "    assign_logits = torch.cat((a,b), dim=-1)\n",
    "    assign_logits[~is_observed] = -float('inf')\n",
    "    return assign_logits"
   ]
  },
  {
   "cell_type": "markdown",
   "metadata": {},
   "source": [
    "## Guide\n",
    "This guide uses EM."
   ]
  },
  {
   "cell_type": "code",
   "execution_count": null,
   "metadata": {},
   "outputs": [],
   "source": [
    "@poutine.broadcast\n",
    "def guide(args, observations):\n",
    "    # Initialize states randomly from the prior.\n",
    "    states_loc = pyro.param(\"states_loc\", lambda: torch.randn(args.max_num_objects, 2))\n",
    "    is_observed = (observations[..., -1] > 0)\n",
    "    \n",
    "    for em_iter in range(args.em_iters):\n",
    "        states_loc = states_loc.detach()\n",
    "        states_loc.requires_grad = True\n",
    "        positions = get_dynamics(args.num_frames).mm(states_loc.t())\n",
    "        replicates = max(1, states_loc.shape[0]/args.expected_num_objects)\n",
    "        # E-step: compute soft assignments\n",
    "        with torch.no_grad():\n",
    "            assign_logits = compute_assign_logits(positions, observations, replicates, args)\n",
    "            exists_logits = compute_exists_logits(states_loc, replicates)\n",
    "            assignment = MarginalAssignmentPersistent(exists_logits, assign_logits,\n",
    "                                              args.bp_iters, bp_momentum=args.bp_momentum)\n",
    "            p_exists = assignment.exists_dist.probs\n",
    "            p_assign = assignment.assign_dist.probs\n",
    "        \n",
    "        log_likelihood = detection_log_likelihood(positions,observations, args)\n",
    "        loss = -(log_likelihood * p_assign).sum()\n",
    "        states_loc, _ = newton_step(loss, states_loc,\n",
    "                                    args.emission_noise_scale # TODO: Play with this\n",
    "                                    )  # M-step\n",
    "        \n",
    "        if args.prune_threshold > 0.0:\n",
    "            states_loc = states_loc[p_exists > args.prune_threshold]\n",
    "        if args.merge_radius >= 0.0:\n",
    "            states_loc, _ = merge_points(states_loc, args.merge_radius)\n",
    "        warn_if_nan(states_loc, 'states_loc')\n",
    "    \n",
    "    positions = get_dynamics(args.num_frames).mm(states_loc.t())\n",
    "    replicates = max(1, states_loc.shape[0]/args.expected_num_objects)\n",
    "    assign_logits = compute_assign_logits(positions, observations, replicates, args)\n",
    "    exists_logits = compute_exists_logits(states_loc, replicates)\n",
    "    assignment = MarginalAssignmentPersistent(exists_logits, assign_logits,\n",
    "                                      args.bp_iters, bp_momentum=args.bp_momentum)\n",
    "\n",
    "    with pyro.iarange(\"objects\", states_loc.shape[0]):\n",
    "        exists = pyro.sample(\"exists\", assignment.exists_dist, infer={\"enumerate\": \"parallel\"})\n",
    "        with poutine.scale(scale=exists):\n",
    "            pyro.sample(\"states\", dist.Delta(states_loc).independent(1))\n",
    "    with pyro.iarange(\"detections\", observations.shape[1]):\n",
    "        with poutine.scale(scale=is_observed.float()):\n",
    "            with pyro.iarange(\"time\", args.num_frames):\n",
    "                pyro.sample(\"assign\", assignment.assign_dist, infer={\"enumerate\": \"parallel\"})\n",
    "\n",
    "    return assignment, states_loc"
   ]
  },
  {
   "cell_type": "markdown",
   "metadata": {},
   "source": [
    "## Plotting"
   ]
  },
  {
   "cell_type": "markdown",
   "metadata": {},
   "source": [
    "We'll use these plotting helpers before and after training."
   ]
  },
  {
   "cell_type": "code",
   "execution_count": null,
   "metadata": {},
   "outputs": [],
   "source": [
    "def plot_solution(observations, message='', assignment=None, states_loc=None):\n",
    "    if (assignment is None) and (states_loc is None):\n",
    "        assignment, states_loc = guide(args, observations)\n",
    "    positions = get_dynamics(args.num_frames).mm(states_loc.t())\n",
    "    fig = pyplot.figure(figsize=(12,6))\n",
    "    fig.patch.set_color('white')\n",
    "    pyplot.plot(true_positions.numpy(), 'k--')\n",
    "    is_observed = (observations[..., -1] > 0)\n",
    "    pos = observations[..., 0]\n",
    "    time = torch.arange(args.num_frames).unsqueeze(-1).expand_as(pos)\n",
    "    pyplot.scatter(time[is_observed].view(-1).numpy(),\n",
    "                   pos[is_observed].view(-1).numpy(), color='k', marker='+',\n",
    "                   label='observation')\n",
    "    for i in range(assignment.exists_dist.probs.shape[0]):\n",
    "        p_exists = assignment.exists_dist.probs[i].item()\n",
    "        position = positions[:, i].detach().numpy()\n",
    "        pyplot.plot(position, alpha=p_exists, color='C0')\n",
    "    if args.expected_num_objects == 1:\n",
    "        p_exists = assignment.exists_dist.probs\n",
    "        mean = (p_exists * positions).sum(-1) / p_exists.sum(-1)\n",
    "        pyplot.plot(mean.detach().numpy(), 'r--', alpha=0.5, label='mean')\n",
    "    pyplot.title('Truth, observations, and {:0.1f} predicted tracks {}'.format(\n",
    "                 assignment.exists_dist.probs.sum().item(), message))\n",
    "    pyplot.plot([], 'k--', label='truth')\n",
    "    pyplot.plot([], color='C0', label='prediction')\n",
    "    pyplot.legend(loc='best')\n",
    "    pyplot.xlabel('time step')\n",
    "    pyplot.ylabel('position')\n",
    "    pyplot.tight_layout()\n",
    "\n",
    "def plot_exists_histogram(observations, p_exists=None):\n",
    "    if p_exists is None:\n",
    "        p_exists = guide(args, observations)[0].exists_dist.probs\n",
    "    p_exists = p_exists.detach().numpy()\n",
    "    pyplot.figure(figsize=(6,4)).patch.set_color('white')\n",
    "    pyplot.plot(sorted(p_exists))\n",
    "    pyplot.ylim(0, None)\n",
    "    pyplot.xlim(0, len(p_exists))\n",
    "    pyplot.ylabel('p_exists')\n",
    "    pyplot.xlabel('rank')\n",
    "    pyplot.title('Prob(exists) of {} potential objects, total = {:0.2f}'.format(\n",
    "        len(p_exists), p_exists.sum()))\n",
    "    pyplot.tight_layout()"
   ]
  },
  {
   "cell_type": "markdown",
   "metadata": {},
   "source": [
    "## Generate data"
   ]
  },
  {
   "cell_type": "markdown",
   "metadata": {},
   "source": [
    "We'll define a global config object to make it easy to port code to `argparse`."
   ]
  },
  {
   "cell_type": "code",
   "execution_count": null,
   "metadata": {},
   "outputs": [],
   "source": [
    "args = type('Args', (object,), {})  # A fake ArgumentParser.parse_args() result.\n",
    "args.num_frames = 40\n",
    "args.max_num_objects = 400\n",
    "args.expected_num_objects = 2.\n",
    "args.expected_num_spurious = 0.2  # If this is too small, BP will be unstable.\n",
    "args.emission_prob = 0.8          # If this is too large, BP will be unstable.\n",
    "args.emission_noise_scale = 0.1   # If this is too small, SVI will see flat gradients.\n",
    "args.bp_iters = 50\n",
    "args.bp_momentum =0.5\n",
    "args.em_iters = 10\n",
    "args.merge_radius = 0.5\n",
    "args.prune_threshold = 1e-2\n",
    "assert args.max_num_objects >= args.expected_num_objects"
   ]
  },
  {
   "cell_type": "code",
   "execution_count": null,
   "metadata": {},
   "outputs": [],
   "source": [
    "pyro.set_rng_seed(0)\n",
    "true_states, true_positions, observations = generate_data(args)\n",
    "true_num_objects = len(true_states)\n",
    "max_num_detections = observations.shape[1]\n",
    "assert true_states.shape == (true_num_objects, 2)\n",
    "assert true_positions.shape == (args.num_frames, true_num_objects)\n",
    "assert observations.shape == (args.num_frames, max_num_detections, 1+1)\n",
    "print(\"generated {:d} detections from {:d} objects\".format(\n",
    "    (observations[..., -1] > 0).long().sum(), true_num_objects))"
   ]
  },
  {
   "cell_type": "markdown",
   "metadata": {},
   "source": [
    "## Evaluate\n",
    "10 iterations of EM with and without merging"
   ]
  },
  {
   "cell_type": "code",
   "execution_count": null,
   "metadata": {},
   "outputs": [],
   "source": [
    "pyro.set_rng_seed(1)  # Use a different seed from data generation\n",
    "old_merge_radius= args.merge_radius\n",
    "old_prune_thres= args.prune_threshold\n",
    "args.merge_radius = -1\n",
    "args.prune_threshold = -1\n",
    "pyro.clear_param_store()\n",
    "plot_solution(observations, 'after 10 EM (without merge)')\n",
    "plot_exists_histogram(observations)\n",
    "args.merge_radius = old_merge_radius\n",
    "args.prune_threshold = old_prune_thres"
   ]
  },
  {
   "cell_type": "code",
   "execution_count": null,
   "metadata": {
    "scrolled": false
   },
   "outputs": [],
   "source": [
    "pyro.set_rng_seed(1)  # Use a different seed from data generation\n",
    "pyro.clear_param_store()\n",
    "plot_solution(observations, 'after 10 EM (with merge)')\n",
    "plot_exists_histogram(observations)"
   ]
  }
 ],
 "metadata": {
  "kernelspec": {
   "display_name": "Python 3",
   "language": "python",
   "name": "python3"
  },
  "language_info": {
   "codemirror_mode": {
    "name": "ipython",
    "version": 3
   },
   "file_extension": ".py",
   "mimetype": "text/x-python",
   "name": "python",
   "nbconvert_exporter": "python",
   "pygments_lexer": "ipython3",
   "version": "3.6.6"
  }
 },
 "nbformat": 4,
 "nbformat_minor": 2
}
